{
 "cells": [
  {
   "cell_type": "markdown",
   "metadata": {},
   "source": [
    "<p style=\"text-align:center\">\n",
    "    <a href=\"https://skills.network\" target=\"_blank\">\n",
    "    <img src=\"https://cf-courses-data.s3.us.cloud-object-storage.appdomain.cloud/assets/logos/SN_web_lightmode.png\" width=\"200\" alt=\"Skills Network Logo\">\n",
    "    </a>\n",
    "</p>\n"
   ]
  },
  {
   "cell_type": "markdown",
   "metadata": {},
   "source": [
    "# **Space X  Falcon 9 First Stage Landing Prediction**\n"
   ]
  },
  {
   "cell_type": "markdown",
   "metadata": {},
   "source": [
    "## Web scraping Falcon 9 and Falcon Heavy Launches Records from Wikipedia\n"
   ]
  },
  {
   "cell_type": "markdown",
   "metadata": {},
   "source": [
    "Estimated time needed: **40** minutes\n"
   ]
  },
  {
   "cell_type": "markdown",
   "metadata": {},
   "source": [
    "In this lab, you will be performing web scraping to collect Falcon 9 historical launch records from a Wikipedia page titled `List of Falcon 9 and Falcon Heavy launches`\n",
    "\n",
    "https://en.wikipedia.org/wiki/List_of_Falcon_9_and_Falcon_Heavy_launches\n"
   ]
  },
  {
   "cell_type": "markdown",
   "metadata": {},
   "source": [
    "![](https://cf-courses-data.s3.us.cloud-object-storage.appdomain.cloud/IBM-DS0321EN-SkillsNetwork/labs/module_1_L2/images/Falcon9_rocket_family.svg)\n"
   ]
  },
  {
   "cell_type": "markdown",
   "metadata": {},
   "source": [
    "Falcon 9 first stage will land successfully\n"
   ]
  },
  {
   "cell_type": "markdown",
   "metadata": {},
   "source": [
    "![](https://cf-courses-data.s3.us.cloud-object-storage.appdomain.cloud/IBMDeveloperSkillsNetwork-DS0701EN-SkillsNetwork/api/Images/landing_1.gif)\n"
   ]
  },
  {
   "cell_type": "markdown",
   "metadata": {},
   "source": [
    "Several examples of an unsuccessful landing are shown here:\n"
   ]
  },
  {
   "cell_type": "markdown",
   "metadata": {},
   "source": [
    "![](https://cf-courses-data.s3.us.cloud-object-storage.appdomain.cloud/IBMDeveloperSkillsNetwork-DS0701EN-SkillsNetwork/api/Images/crash.gif)\n"
   ]
  },
  {
   "cell_type": "markdown",
   "metadata": {},
   "source": [
    "More specifically, the launch records are stored in a HTML table shown below:\n"
   ]
  },
  {
   "cell_type": "markdown",
   "metadata": {},
   "source": [
    "![](https://cf-courses-data.s3.us.cloud-object-storage.appdomain.cloud/IBM-DS0321EN-SkillsNetwork/labs/module_1_L2/images/falcon9-launches-wiki.png)\n"
   ]
  },
  {
   "cell_type": "markdown",
   "metadata": {},
   "source": [
    "  ## Objectives\n",
    "Web scrap Falcon 9 launch records with `BeautifulSoup`: \n",
    "- Extract a Falcon 9 launch records HTML table from Wikipedia\n",
    "- Parse the table and convert it into a Pandas data frame\n"
   ]
  },
  {
   "cell_type": "markdown",
   "metadata": {},
   "source": [
    "First let's import required packages for this lab\n"
   ]
  },
  {
   "cell_type": "code",
   "execution_count": null,
   "metadata": {},
   "outputs": [],
   "source": [
    "!pip3 install beautifulsoup4\n",
    "!pip3 install requests"
   ]
  },
  {
   "cell_type": "code",
   "execution_count": 1,
   "metadata": {
    "tags": []
   },
   "outputs": [],
   "source": [
    "import sys\n",
    "\n",
    "import requests\n",
    "from bs4 import BeautifulSoup\n",
    "import re\n",
    "import unicodedata\n",
    "import pandas as pd"
   ]
  },
  {
   "cell_type": "markdown",
   "metadata": {},
   "source": [
    "and we will provide some helper functions for you to process web scraped HTML table\n"
   ]
  },
  {
   "cell_type": "code",
   "execution_count": 2,
   "metadata": {
    "tags": []
   },
   "outputs": [],
   "source": [
    "def date_time(table_cells):\n",
    "    \"\"\"\n",
    "    This function returns the data and time from the HTML  table cell\n",
    "    Input: the  element of a table data cell extracts extra row\n",
    "    \"\"\"\n",
    "    return [data_time.strip() for data_time in list(table_cells.strings)][0:2]\n",
    "\n",
    "def booster_version(table_cells):\n",
    "    \"\"\"\n",
    "    This function returns the booster version from the HTML  table cell \n",
    "    Input: the  element of a table data cell extracts extra row\n",
    "    \"\"\"\n",
    "    out=''.join([booster_version for i,booster_version in enumerate( table_cells.strings) if i%2==0][0:-1])\n",
    "    return out\n",
    "\n",
    "def landing_status(table_cells):\n",
    "    \"\"\"\n",
    "    This function returns the landing status from the HTML table cell \n",
    "    Input: the  element of a table data cell extracts extra row\n",
    "    \"\"\"\n",
    "    out=[i for i in table_cells.strings][0]\n",
    "    return out\n",
    "\n",
    "\n",
    "def get_mass(table_cells):\n",
    "    mass=unicodedata.normalize(\"NFKD\", table_cells.text).strip()\n",
    "    if mass:\n",
    "        mass.find(\"kg\")\n",
    "        new_mass=mass[0:mass.find(\"kg\")+2]\n",
    "    else:\n",
    "        new_mass=0\n",
    "    return new_mass\n",
    "\n",
    "\n",
    "def extract_column_from_header(row):\n",
    "    \"\"\"\n",
    "    This function returns the landing status from the HTML table cell \n",
    "    Input: the  element of a table data cell extracts extra row\n",
    "    \"\"\"\n",
    "    if (row.br):\n",
    "        row.br.extract()\n",
    "    if row.a:\n",
    "        row.a.extract()\n",
    "    if row.sup:\n",
    "        row.sup.extract()\n",
    "        \n",
    "    colunm_name = ' '.join(row.contents)\n",
    "    \n",
    "    # Filter the digit and empty names\n",
    "    if not(colunm_name.strip().isdigit()):\n",
    "        colunm_name = colunm_name.strip()\n",
    "        return colunm_name    \n"
   ]
  },
  {
   "cell_type": "markdown",
   "metadata": {},
   "source": [
    "To keep the lab tasks consistent, you will be asked to scrape the data from a snapshot of the  `List of Falcon 9 and Falcon Heavy launches` Wikipage updated on\n",
    "`9th June 2021`\n"
   ]
  },
  {
   "cell_type": "code",
   "execution_count": 3,
   "metadata": {
    "tags": []
   },
   "outputs": [],
   "source": [
    "static_url = \"https://en.wikipedia.org/w/index.php?title=List_of_Falcon_9_and_Falcon_Heavy_launches&oldid=1027686922\""
   ]
  },
  {
   "cell_type": "markdown",
   "metadata": {},
   "source": [
    "Next, request the HTML page from the above URL and get a `response` object\n"
   ]
  },
  {
   "cell_type": "markdown",
   "metadata": {},
   "source": [
    "### TASK 1: Request the Falcon9 Launch Wiki page from its URL\n"
   ]
  },
  {
   "cell_type": "markdown",
   "metadata": {},
   "source": [
    "First, let's perform an HTTP GET method to request the Falcon9 Launch HTML page, as an HTTP response.\n"
   ]
  },
  {
   "cell_type": "code",
   "execution_count": 4,
   "metadata": {
    "tags": []
   },
   "outputs": [
    {
     "name": "stdout",
     "output_type": "stream",
     "text": [
      "Status code: 200\n",
      "<!DOCTYPE html>\n",
      "<html class=\"client-nojs vector-feature-language-in-header-enabled vector-feature-language-in-main-page-header-disabled vector-feature-page-tools-pinned-disabled vector-feature-toc-pinned-clientpref-1 vector-feature-main-menu-pinned-disabled vector-feature-limited-width-clientpref-1 vector-feature-limited-width-content-enabled vector-feature-custom-font-size-clientpref-1 vector-feature-appearance-pinned-clientpref-1 vector-feature-night-mode-enabled skin-theme-clientpref-day vect\n"
     ]
    }
   ],
   "source": [
    "import requests\n",
    "\n",
    "# URL của trang Wikipedia Falcon 9 Launch\n",
    "url = \"https://en.wikipedia.org/wiki/List_of_Falcon_9_and_Falcon_Heavy_launches\"\n",
    "\n",
    "# Gửi yêu cầu GET\n",
    "response = requests.get(url)\n",
    "\n",
    "# Kiểm tra mã phản hồi HTTP\n",
    "print(\"Status code:\", response.status_code)\n",
    "\n",
    "# Xem thử vài dòng đầu của nội dung HTML\n",
    "print(response.text[:500])\n"
   ]
  },
  {
   "cell_type": "markdown",
   "metadata": {},
   "source": [
    "Create a `BeautifulSoup` object from the HTML `response`\n"
   ]
  },
  {
   "cell_type": "code",
   "execution_count": 5,
   "metadata": {
    "tags": []
   },
   "outputs": [
    {
     "name": "stdout",
     "output_type": "stream",
     "text": [
      "<title>List of Falcon 9 and Falcon Heavy launches - Wikipedia</title>\n",
      "List of Falcon 9 and Falcon Heavy launches - Wikipedia\n"
     ]
    }
   ],
   "source": [
    "from bs4 import BeautifulSoup\n",
    "\n",
    "# Tạo đối tượng BeautifulSoup từ nội dung HTML\n",
    "soup = BeautifulSoup(response.text, 'html.parser')\n",
    "\n",
    "# In thử tiêu đề trang để kiểm tra\n",
    "print(soup.title)\n",
    "print(soup.title.string)\n"
   ]
  },
  {
   "cell_type": "markdown",
   "metadata": {},
   "source": [
    "Print the page title to verify if the `BeautifulSoup` object was created properly \n"
   ]
  },
  {
   "cell_type": "code",
   "execution_count": 6,
   "metadata": {
    "tags": []
   },
   "outputs": [
    {
     "name": "stdout",
     "output_type": "stream",
     "text": [
      "<title>Falcon 9 - Wikipedia</title>\n",
      "Falcon 9 - Wikipedia\n"
     ]
    }
   ],
   "source": [
    "from bs4 import BeautifulSoup\n",
    "import requests\n",
    "\n",
    "url = 'https://en.wikipedia.org/wiki/Falcon_9'\n",
    "response = requests.get(url)\n",
    "\n",
    "# Tạo đối tượng BeautifulSoup\n",
    "soup = BeautifulSoup(response.text, 'html.parser')\n",
    "\n",
    "# In tiêu đề trang\n",
    "print(soup.title)\n",
    "print(soup.title.string)\n"
   ]
  },
  {
   "cell_type": "markdown",
   "metadata": {},
   "source": [
    "### TASK 2: Extract all column/variable names from the HTML table header\n"
   ]
  },
  {
   "cell_type": "code",
   "execution_count": 12,
   "metadata": {
    "tags": []
   },
   "outputs": [
    {
     "name": "stdout",
     "output_type": "stream",
     "text": [
      "Tổng số bảng tìm được: 24\n",
      "--- Bảng số 0 ---\n",
      "<table class=\"infobox hproduct\">\n",
      " <caption class=\"infobox-title\">\n",
      "  Falcon 9\n",
      " </caption>\n",
      " <tbody>\n",
      "  <tr>\n",
      "   <td class=\"infobox-image\" colspan=\"2\">\n",
      "    <span class=\"mw-default-size\" typeof=\"mw:File/Frameless\">\n",
      "     <a class=\"mw-file-description\" href=\"/wiki/File:Falcon_9_logo.svg\">\n",
      "      <img alt=\"Lo\n",
      "\n",
      "\n",
      "--- Bảng số 1 ---\n",
      "<table class=\"box-Cleanup plainlinks metadata ambox ambox-style ambox-Cleanup\" role=\"presentation\">\n",
      " <tbody>\n",
      "  <tr>\n",
      "   <td class=\"mbox-image\">\n",
      "    <div class=\"mbox-image-div\">\n",
      "     <span typeof=\"mw:File\">\n",
      "      <span>\n",
      "       <img alt=\"\" class=\"mw-file-element\" data-file-height=\"48\" data-file-width=\"\n",
      "\n",
      "\n",
      "--- Bảng số 2 ---\n",
      "<table class=\"wikitable\">\n",
      " <tbody>\n",
      "  <tr>\n",
      "   <td>\n",
      "    Height\n",
      "   </td>\n",
      "   <td>\n",
      "    41.2 m / 135.2 ft\n",
      "   </td>\n",
      "  </tr>\n",
      "  <tr>\n",
      "   <td>\n",
      "    Height (with interstage)\n",
      "   </td>\n",
      "   <td>\n",
      "    47.7 m / 156.5 ft\n",
      "   </td>\n",
      "  </tr>\n",
      "  <tr>\n",
      "   <td>\n",
      "    Diameter\n",
      "   </td>\n",
      "   <td>\n",
      "    3.7 m / 12 ft\n",
      "   </td>\n",
      "  </tr>\n",
      "  <\n",
      "\n",
      "\n",
      "--- Bảng số 3 ---\n",
      "<table class=\"wikitable\">\n",
      " <tbody>\n",
      "  <tr>\n",
      "   <td>\n",
      "    Height\n",
      "   </td>\n",
      "   <td>\n",
      "    13.8 m / 45.3 ft\n",
      "   </td>\n",
      "  </tr>\n",
      "  <tr>\n",
      "   <td>\n",
      "    Diameter\n",
      "   </td>\n",
      "   <td>\n",
      "    3.7 m / 12.1 ft\n",
      "   </td>\n",
      "  </tr>\n",
      "  <tr>\n",
      "   <td>\n",
      "    Empty mass\n",
      "   </td>\n",
      "   <td>\n",
      "    3,900 kg / 8,598 lb\n",
      "   </td>\n",
      "  </tr>\n",
      "  <tr>\n",
      "   <td>\n",
      "\n",
      "\n",
      "--- Bảng số 4 ---\n",
      "<table class=\"wikitable\" style=\"font-size:small; text-align:center;\">\n",
      " <tbody>\n",
      "  <tr>\n",
      "   <th rowspan=\"2\">\n",
      "    Version\n",
      "   </th>\n",
      "   <th rowspan=\"2\">\n",
      "    <a href=\"/wiki/Falcon_9_v1.0\" title=\"Falcon 9 v1.0\">\n",
      "     v1.0\n",
      "    </a>\n",
      "    (retired)\n",
      "   </th>\n",
      "   <th rowspan=\"2\">\n",
      "    <a href=\"/wiki/Falcon_9_v1.1\" \n",
      "\n",
      "\n",
      "--- Bảng số 5 ---\n",
      "<table class=\"nowraplinks hlist mw-collapsible autocollapse navbox-inner\" style=\"border-spacing:0;background:transparent;color:inherit\">\n",
      " <tbody>\n",
      "  <tr>\n",
      "   <th class=\"navbox-title\" colspan=\"3\" scope=\"col\">\n",
      "    <link href=\"mw-data:TemplateStyles:r1129693374\" rel=\"mw-deduplicated-inline-style\"/>\n",
      "    <\n",
      "\n",
      "\n",
      "--- Bảng số 6 ---\n",
      "<table class=\"nowraplinks navbox-subgroup\" style=\"border-spacing:0\">\n",
      " <tbody>\n",
      "  <tr>\n",
      "   <th class=\"navbox-group\" scope=\"row\" style=\"width:1%\">\n",
      "    Demo flights\n",
      "   </th>\n",
      "   <td class=\"navbox-list-with-group navbox-list navbox-odd\" style=\"width:100%;padding:0\">\n",
      "    <div style=\"padding:0 0.25em\">\n",
      "     \n",
      "\n",
      "\n",
      "--- Bảng số 7 ---\n",
      "<table class=\"nowraplinks mw-collapsible mw-collapsed navbox-inner\" style=\"border-spacing:0;background:transparent;color:inherit\">\n",
      " <tbody>\n",
      "  <tr>\n",
      "   <th class=\"navbox-title\" colspan=\"2\" scope=\"col\">\n",
      "    <link href=\"mw-data:TemplateStyles:r1129693374\" rel=\"mw-deduplicated-inline-style\"/>\n",
      "    <link h\n",
      "\n",
      "\n",
      "--- Bảng số 8 ---\n",
      "<table class=\"nowraplinks navbox-subgroup\" style=\"border-spacing:0\">\n",
      " <tbody>\n",
      "  <tr>\n",
      "   <th class=\"navbox-group\" scope=\"row\" style=\"width:1%\">\n",
      "    Current\n",
      "   </th>\n",
      "   <td class=\"navbox-list-with-group navbox-list navbox-odd\" style=\"width:100%;padding:0\">\n",
      "    <div style=\"padding:0 0.25em\">\n",
      "     <ul>\n",
      "\n",
      "\n",
      "\n",
      "--- Bảng số 9 ---\n",
      "<table class=\"nowraplinks navbox-subgroup\" style=\"border-spacing:0\">\n",
      " <tbody>\n",
      "  <tr>\n",
      "   <th class=\"navbox-group\" scope=\"row\" style=\"width:1%\">\n",
      "    Cargo\n",
      "   </th>\n",
      "   <td class=\"navbox-list-with-group navbox-list navbox-odd\" style=\"width:100%;padding:0\">\n",
      "    <div style=\"padding:0 0.25em\">\n",
      "     <ul>\n",
      "  \n",
      "\n",
      "\n",
      "--- Bảng số 10 ---\n",
      "<table class=\"nowraplinks navbox-subgroup\" style=\"border-spacing:0\">\n",
      " <tbody>\n",
      "  <tr>\n",
      "   <th class=\"navbox-group\" scope=\"row\" style=\"width:1%\">\n",
      "    Current\n",
      "   </th>\n",
      "   <td class=\"navbox-list-with-group navbox-list navbox-odd\" style=\"width:100%;padding:0\">\n",
      "    <div style=\"padding:0 0.25em\">\n",
      "     <ul>\n",
      "\n",
      "\n",
      "\n",
      "--- Bảng số 11 ---\n",
      "<table class=\"nowraplinks hlist mw-collapsible autocollapse navbox-inner\" style=\"border-spacing:0;background:transparent;color:inherit\">\n",
      " <tbody>\n",
      "  <tr>\n",
      "   <th class=\"navbox-title\" colspan=\"2\" scope=\"col\">\n",
      "    <link href=\"mw-data:TemplateStyles:r1129693374\" rel=\"mw-deduplicated-inline-style\"/>\n",
      "    <\n",
      "\n",
      "\n",
      "--- Bảng số 12 ---\n",
      "<table class=\"nowraplinks navbox-subgroup\" style=\"border-spacing:0\">\n",
      " <tbody>\n",
      "  <tr>\n",
      "   <th class=\"navbox-group\" scope=\"row\" style=\"width:1%\">\n",
      "    Demonstrations\n",
      "   </th>\n",
      "   <td class=\"navbox-list-with-group navbox-list navbox-odd\" style=\"width:100%;padding:0\">\n",
      "    <div style=\"padding:0 0.25em\">\n",
      "   \n",
      "\n",
      "\n",
      "--- Bảng số 13 ---\n",
      "<table class=\"nowraplinks navbox-subgroup\" style=\"border-spacing:0\">\n",
      " <tbody>\n",
      "  <tr>\n",
      "   <td class=\"navbox-list navbox-even\" colspan=\"2\" style=\"width:100%;padding:0\">\n",
      "    <div style=\"padding:0 0.25em\">\n",
      "     <ul>\n",
      "      <li>\n",
      "       2018\n",
      "       <ul>\n",
      "        <li>\n",
      "         <a class=\"mw-redirect\" href=\"/wi\n",
      "\n",
      "\n",
      "--- Bảng số 14 ---\n",
      "<table class=\"nowraplinks navbox-subgroup\" style=\"border-spacing:0\">\n",
      " <tbody>\n",
      "  <tr>\n",
      "   <th class=\"navbox-group\" scope=\"row\" style=\"width:1%\">\n",
      "    Flight tests\n",
      "   </th>\n",
      "   <td class=\"navbox-list-with-group navbox-list navbox-even\" style=\"width:100%;padding:0\">\n",
      "    <div style=\"padding:0 0.25em\">\n",
      "    \n",
      "\n",
      "\n",
      "--- Bảng số 15 ---\n",
      "<table class=\"nowraplinks hlist mw-collapsible autocollapse navbox-inner\" style=\"border-spacing:0;background:transparent;color:inherit\">\n",
      " <tbody>\n",
      "  <tr>\n",
      "   <th class=\"navbox-title\" colspan=\"2\" scope=\"col\">\n",
      "    <link href=\"mw-data:TemplateStyles:r1129693374\" rel=\"mw-deduplicated-inline-style\"/>\n",
      "    <\n",
      "\n",
      "\n",
      "--- Bảng số 16 ---\n",
      "<table class=\"nowraplinks hlist mw-collapsible mw-collapsed navbox-inner\" style=\"border-spacing:0;background:transparent;color:inherit\">\n",
      " <tbody>\n",
      "  <tr>\n",
      "   <th class=\"navbox-title\" colspan=\"2\" scope=\"col\">\n",
      "    <link href=\"mw-data:TemplateStyles:r1129693374\" rel=\"mw-deduplicated-inline-style\"/>\n",
      "    <\n",
      "\n",
      "\n",
      "--- Bảng số 17 ---\n",
      "<table class=\"nowraplinks mw-collapsible expanded navbox-subgroup\" style=\"border-spacing:0\">\n",
      " <tbody>\n",
      "  <tr>\n",
      "   <th class=\"navbox-title\" colspan=\"2\" scope=\"col\">\n",
      "    <div id=\"Launch_systems127\" style=\"font-size:114%;margin:0 4em\">\n",
      "     Launch systems\n",
      "    </div>\n",
      "   </th>\n",
      "  </tr>\n",
      "  <tr>\n",
      "   <td class=\"\n",
      "\n",
      "\n",
      "--- Bảng số 18 ---\n",
      "<table class=\"nowraplinks navbox-subgroup\" style=\"border-spacing:0\">\n",
      " <tbody>\n",
      "  <tr>\n",
      "   <th class=\"navbox-group\" scope=\"row\" style=\"width:1%\">\n",
      "    Active\n",
      "   </th>\n",
      "   <td class=\"navbox-list-with-group navbox-list navbox-odd\" style=\"width:100%;padding:0\">\n",
      "    <div style=\"padding:0 0.25em\">\n",
      "     <ul>\n",
      " \n",
      "\n",
      "\n",
      "--- Bảng số 19 ---\n",
      "<table class=\"nowraplinks mw-collapsible expanded navbox-subgroup\" style=\"border-spacing:0\">\n",
      " <tbody>\n",
      "  <tr>\n",
      "   <th class=\"navbox-title\" colspan=\"2\" scope=\"col\">\n",
      "    <div id=\"Spacecraft127\" style=\"font-size:114%;margin:0 4em\">\n",
      "     Spacecraft\n",
      "    </div>\n",
      "   </th>\n",
      "  </tr>\n",
      "  <tr>\n",
      "   <td class=\"navbox-l\n",
      "\n",
      "\n",
      "--- Bảng số 20 ---\n",
      "<table class=\"nowraplinks navbox-subgroup\" style=\"border-spacing:0\">\n",
      " <tbody>\n",
      "  <tr>\n",
      "   <th class=\"navbox-group\" scope=\"row\" style=\"width:1%\">\n",
      "    Active\n",
      "   </th>\n",
      "   <td class=\"navbox-list-with-group navbox-list navbox-odd\" style=\"width:100%;padding:0\">\n",
      "    <div style=\"padding:0 0.25em\">\n",
      "     <ul>\n",
      " \n",
      "\n",
      "\n",
      "--- Bảng số 21 ---\n",
      "<table class=\"nowraplinks hlist mw-collapsible autocollapse navbox-inner\" style=\"border-spacing:0;background:transparent;color:inherit\">\n",
      " <tbody>\n",
      "  <tr>\n",
      "   <th class=\"navbox-title\" colspan=\"2\" scope=\"col\">\n",
      "    <link href=\"mw-data:TemplateStyles:r1129693374\" rel=\"mw-deduplicated-inline-style\"/>\n",
      "    <\n",
      "\n",
      "\n",
      "--- Bảng số 22 ---\n",
      "<table class=\"nowraplinks hlist mw-collapsible autocollapse navbox-inner\" style=\"border-spacing:0;background:transparent;color:inherit\">\n",
      " <tbody>\n",
      "  <tr>\n",
      "   <th class=\"navbox-title\" colspan=\"2\" scope=\"col\">\n",
      "    <link href=\"mw-data:TemplateStyles:r1129693374\" rel=\"mw-deduplicated-inline-style\"/>\n",
      "    <\n",
      "\n",
      "\n",
      "--- Bảng số 23 ---\n",
      "<table class=\"nowraplinks navbox-subgroup\" style=\"border-spacing:0\">\n",
      " <tbody>\n",
      "  <tr>\n",
      "   <th class=\"navbox-group\" scope=\"row\" style=\"width:1%\">\n",
      "    China\n",
      "   </th>\n",
      "   <td class=\"navbox-list-with-group navbox-list navbox-odd\" style=\"width:100%;padding:0\">\n",
      "    <div style=\"padding:0 0.25em\">\n",
      "     <ul>\n",
      "  \n",
      "\n",
      "\n",
      "Tên cột:\n",
      "['Height', '41.2 m / 135.2\\xa0ft']\n"
     ]
    }
   ],
   "source": [
    "from bs4 import BeautifulSoup\n",
    "import requests\n",
    "\n",
    "# Gửi yêu cầu đến Wikipedia\n",
    "url = 'https://en.wikipedia.org/wiki/Falcon_9'\n",
    "response = requests.get(url)\n",
    "soup = BeautifulSoup(response.text, 'html.parser')\n",
    "\n",
    "# Tìm tất cả bảng trên trang\n",
    "tables = soup.find_all('table')\n",
    "\n",
    "print(f\"Tổng số bảng tìm được: {len(tables)}\")\n",
    "\n",
    "# Kiểm tra nội dung bảng để xác định đúng bảng cần lấy\n",
    "for i, table in enumerate(tables):\n",
    "    print(f\"--- Bảng số {i} ---\")\n",
    "    print(table.prettify()[:300])  # In thử 300 ký tự đầu của mỗi bảng\n",
    "    print(\"\\n\")\n",
    "\n",
    "# Giả sử sau khi kiểm tra, bảng số 2 là bảng cần lấy:\n",
    "launch_table = tables[2]  # Thay số này nếu kiểm tra thấy khác!\n",
    "\n",
    "# Tìm dòng đầu tiên có thẻ <tr> và lấy cột từ đó\n",
    "header_row = launch_table.find('tr')\n",
    "\n",
    "# Lấy cả thẻ <th> và <td> vì đôi khi Wikipedia dùng <td> cho header\n",
    "columns = [cell.get_text(strip=True) for cell in header_row.find_all(['th', 'td'])]\n",
    "\n",
    "print(\"Tên cột:\")\n",
    "print(columns)\n"
   ]
  },
  {
   "cell_type": "markdown",
   "metadata": {},
   "source": [
    "Next, we want to collect all relevant column names from the HTML table header\n"
   ]
  },
  {
   "cell_type": "markdown",
   "metadata": {},
   "source": [
    "Let's try to find all tables on the wiki page first. If you need to refresh your memory about `BeautifulSoup`, please check the external reference link towards the end of this lab\n"
   ]
  },
  {
   "cell_type": "markdown",
   "metadata": {},
   "source": [
    "Starting from the third table is our target table contains the actual launch records.\n"
   ]
  },
  {
   "cell_type": "code",
   "execution_count": 15,
   "metadata": {
    "tags": []
   },
   "outputs": [
    {
     "name": "stdout",
     "output_type": "stream",
     "text": [
      "Số bảng tìm được: 24\n",
      "<table class=\"wikitable\">\n",
      " <tbody>\n",
      "  <tr>\n",
      "   <td>\n",
      "    Height\n",
      "   </td>\n",
      "   <td>\n",
      "    41.2 m / 135.2 ft\n",
      "   </td>\n",
      "  </tr>\n",
      "  <tr>\n",
      "   <td>\n",
      "    Height (with interstage)\n",
      "   </td>\n",
      "   <td>\n",
      "    47.7 m / 156.5 ft\n",
      "   </td>\n",
      "  </tr>\n",
      "  <tr>\n",
      "   <td>\n",
      "    Diameter\n",
      "   </td>\n",
      "   <td>\n",
      "    3.7 m / 12 ft\n",
      "   </td>\n",
      "  </tr>\n",
      "  <tr>\n",
      "   <td>\n",
      "    Empty mass\n",
      "   </td>\n",
      "   <td>\n",
      "    25,600 kg / 56,423 lb\n",
      "   </td>\n",
      "  </tr>\n",
      "  <tr>\n",
      "   <td>\n",
      "    Propellant mass\n",
      "   </td>\n",
      "   <td>\n",
      "    395,700 kg/ 872,369 lb\n",
      "   </td>\n",
      "  </tr>\n",
      "  <tr>\n",
      "   <td>\n",
      "  \n"
     ]
    }
   ],
   "source": [
    "from bs4 import BeautifulSoup\n",
    "import requests\n",
    "\n",
    "url = 'https://en.wikipedia.org/wiki/Falcon_9'\n",
    "response = requests.get(url)\n",
    "soup = BeautifulSoup(response.text, 'html.parser')\n",
    "\n",
    "# Lấy tất cả bảng trên trang\n",
    "html_tables = soup.find_all('table')\n",
    "\n",
    "print(f\"Số bảng tìm được: {len(html_tables)}\")\n",
    "\n",
    "# Lấy bảng thứ 3 (đếm từ 0)\n",
    "first_launch_table = html_tables[2]\n",
    "print(first_launch_table.prettify()[:500])  # In thử 500 ký tự đầu tiên để kiểm tra\n"
   ]
  },
  {
   "cell_type": "markdown",
   "metadata": {},
   "source": [
    "You should able to see the columns names embedded in the table header elements `<th>` as follows:\n"
   ]
  },
  {
   "cell_type": "markdown",
   "metadata": {},
   "source": [
    "```\n",
    "<tr>\n",
    "<th scope=\"col\">Flight No.\n",
    "</th>\n",
    "<th scope=\"col\">Date and<br/>time (<a href=\"/wiki/Coordinated_Universal_Time\" title=\"Coordinated Universal Time\">UTC</a>)\n",
    "</th>\n",
    "<th scope=\"col\"><a href=\"/wiki/List_of_Falcon_9_first-stage_boosters\" title=\"List of Falcon 9 first-stage boosters\">Version,<br/>Booster</a> <sup class=\"reference\" id=\"cite_ref-booster_11-0\"><a href=\"#cite_note-booster-11\">[b]</a></sup>\n",
    "</th>\n",
    "<th scope=\"col\">Launch site\n",
    "</th>\n",
    "<th scope=\"col\">Payload<sup class=\"reference\" id=\"cite_ref-Dragon_12-0\"><a href=\"#cite_note-Dragon-12\">[c]</a></sup>\n",
    "</th>\n",
    "<th scope=\"col\">Payload mass\n",
    "</th>\n",
    "<th scope=\"col\">Orbit\n",
    "</th>\n",
    "<th scope=\"col\">Customer\n",
    "</th>\n",
    "<th scope=\"col\">Launch<br/>outcome\n",
    "</th>\n",
    "<th scope=\"col\"><a href=\"/wiki/Falcon_9_first-stage_landing_tests\" title=\"Falcon 9 first-stage landing tests\">Booster<br/>landing</a>\n",
    "</th></tr>\n",
    "```\n"
   ]
  },
  {
   "cell_type": "markdown",
   "metadata": {},
   "source": [
    "Next, we just need to iterate through the `<th>` elements and apply the provided `extract_column_from_header()` to extract column name one by one\n"
   ]
  },
  {
   "cell_type": "code",
   "execution_count": 18,
   "metadata": {
    "tags": []
   },
   "outputs": [],
   "source": [
    "from bs4 import BeautifulSoup\n",
    "import requests\n",
    "\n",
    "def extract_column_from_header(th):\n",
    "    \"\"\"Hàm kiểm tra và trả về tên cột nếu tồn tại.\"\"\"\n",
    "    name = th.get_text(strip=True)\n",
    "    return name if name else None\n",
    "\n",
    "# Gửi request lấy HTML\n",
    "url = 'https://en.wikipedia.org/wiki/Falcon_9'\n",
    "response = requests.get(url)\n",
    "soup = BeautifulSoup(response.text, 'html.parser')\n",
    "\n",
    "# Tìm tất cả bảng\n",
    "html_tables = soup.find_all('table')\n",
    "\n",
    "# Chọn bảng thứ 3 (đếm từ 0 là bảng số 2)\n",
    "first_launch_table = html_tables[2]\n",
    "\n",
    "# Lấy tất cả th trong bảng đó\n",
    "ths = first_launch_table.find_all('th')\n",
    "\n",
    "# Lấy tên cột\n",
    "column_names = []\n",
    "for th in ths:\n",
    "    name = extract_column_from_header(th)\n",
    "    if name is not None and len(name) > 0:\n",
    "        column_names.append(name)\n",
    "\n",
    "\n",
    "\n"
   ]
  },
  {
   "cell_type": "markdown",
   "metadata": {},
   "source": [
    "Check the extracted column names\n"
   ]
  },
  {
   "cell_type": "code",
   "execution_count": 19,
   "metadata": {
    "tags": []
   },
   "outputs": [
    {
     "name": "stdout",
     "output_type": "stream",
     "text": [
      "[]\n"
     ]
    }
   ],
   "source": [
    "print(column_names)"
   ]
  },
  {
   "cell_type": "markdown",
   "metadata": {},
   "source": [
    "## TASK 3: Create a data frame by parsing the launch HTML tables\n"
   ]
  },
  {
   "cell_type": "markdown",
   "metadata": {},
   "source": [
    "We will create an empty dictionary with keys from the extracted column names in the previous task. Later, this dictionary will be converted into a Pandas dataframe\n"
   ]
  },
  {
   "cell_type": "code",
   "execution_count": 20,
   "metadata": {
    "tags": []
   },
   "outputs": [
    {
     "name": "stdout",
     "output_type": "stream",
     "text": [
      "           Version        v1.0 (retired)        v1.1 (retired)  \\\n",
      "           Version        v1.0 (retired)        v1.1 (retired)   \n",
      "0  Stage 1 engines         9 × Merlin 1C         9 × Merlin 1D   \n",
      "1  Stage 2 engines  1 × Merlin 1C Vacuum  1 × Merlin 1D Vacuum   \n",
      "2  Max. height (m)               53[114]               68.4[3]   \n",
      "3     Diameter (m)             3.66[115]             3.66[116]   \n",
      "4   Initial thrust   3.807 MN (388.2 tf)    5.9 MN (600 tf)[3]   \n",
      "\n",
      "                             Full Thrust[8]  \\\n",
      "              Block 3 and Block 4 (retired)   \n",
      "0             9 × Merlin 1D (upgraded)[113]   \n",
      "1  1 × Merlin 1D Vacuum (upgraded)[96][113]   \n",
      "2                                 70[2][96]   \n",
      "3                                  3.66[96]   \n",
      "4                6.804 MN (693.8 tf)[2][96]   \n",
      "\n",
      "                                                      \n",
      "                          Block 5 (active)[111][112]  \n",
      "0                           9 × Merlin 1D (upgraded)  \n",
      "1  1 × Merlin 1D Vacuum (upgraded) (short or regu...  \n",
      "2                                                 70  \n",
      "3                                               3.66  \n",
      "4                               7.6 MN (770 tf)[117]  \n"
     ]
    }
   ],
   "source": [
    "import pandas as pd\n",
    "import requests\n",
    "from bs4 import BeautifulSoup\n",
    "\n",
    "# Lấy HTML từ Wikipedia\n",
    "url = 'https://en.wikipedia.org/wiki/Falcon_9'\n",
    "response = requests.get(url)\n",
    "soup = BeautifulSoup(response.text, 'html.parser')\n",
    "\n",
    "# Tìm tất cả các bảng trên trang\n",
    "html_tables = soup.find_all('table', {'class': 'wikitable'})\n",
    "\n",
    "# Chọn bảng phù hợp: thông thường là bảng thứ 3 (chỉnh số nếu cần)\n",
    "launch_table = html_tables[2]\n",
    "\n",
    "# Đọc bảng HTML trực tiếp với pandas\n",
    "df = pd.read_html(str(launch_table))[0]\n",
    "\n",
    "# In thử vài dòng đầu tiên để kiểm tra\n",
    "print(df.head())\n"
   ]
  },
  {
   "cell_type": "markdown",
   "metadata": {},
   "source": [
    "Next, we just need to fill up the `launch_dict` with launch records extracted from table rows.\n"
   ]
  },
  {
   "cell_type": "markdown",
   "metadata": {},
   "source": [
    "Usually, HTML tables in Wiki pages are likely to contain unexpected annotations and other types of noises, such as reference links `B0004.1[8]`, missing values `N/A [e]`, inconsistent formatting, etc.\n"
   ]
  },
  {
   "cell_type": "markdown",
   "metadata": {},
   "source": [
    "To simplify the parsing process, we have provided an incomplete code snippet below to help you to fill up the `launch_dict`. Please complete the following code snippet with TODOs or you can choose to write your own logic to parse all launch tables:\n"
   ]
  },
  {
   "cell_type": "code",
   "execution_count": 23,
   "metadata": {
    "tags": []
   },
   "outputs": [
    {
     "name": "stdout",
     "output_type": "stream",
     "text": [
      "Empty DataFrame\n",
      "Columns: [Date, Time, Booster_Version, Launch_Site, Payload, Payload_Mass, Orbit, Customer, Mission_Outcome, Landing_Outcome]\n",
      "Index: []\n"
     ]
    }
   ],
   "source": [
    "import requests\n",
    "from bs4 import BeautifulSoup\n",
    "import pandas as pd\n",
    "\n",
    "url = 'https://en.wikipedia.org/wiki/Falcon_9'\n",
    "response = requests.get(url)\n",
    "soup = BeautifulSoup(response.text, 'html.parser')\n",
    "\n",
    "# Lấy tất cả các bảng wikitable\n",
    "html_tables = soup.find_all('table', {'class': 'wikitable'})\n",
    "\n",
    "# Chọn bảng thứ 3\n",
    "first_launch_table = html_tables[2]\n",
    "\n",
    "# Tạo danh sách chứa dữ liệu từ các hàng\n",
    "launch_dict = {\n",
    "    \"Date\": [],\n",
    "    \"Time\": [],\n",
    "    \"Booster_Version\": [],\n",
    "    \"Launch_Site\": [],\n",
    "    \"Payload\": [],\n",
    "    \"Payload_Mass\": [],\n",
    "    \"Orbit\": [],\n",
    "    \"Customer\": [],\n",
    "    \"Mission_Outcome\": [],\n",
    "    \"Landing_Outcome\": []\n",
    "}\n",
    "\n",
    "# Duyệt từng hàng (bỏ hàng đầu vì là header)\n",
    "for row in first_launch_table.find_all('tr')[1:]:\n",
    "    cells = row.find_all(['th', 'td'])\n",
    "\n",
    "    if len(cells) >= 9:  # Kiểm tra đủ cột cần thiết, số này có thể điều chỉnh tùy bảng\n",
    "        # Loại bỏ tham chiếu trong text như [1], [a]\n",
    "        cell_texts = [cell.get_text(strip=True).split('[')[0].replace('\\xa0', ' ') for cell in cells]\n",
    "\n",
    "        # Thêm dữ liệu vào launch_dict\n",
    "        launch_dict[\"Date\"].append(cell_texts[0] if len(cell_texts) > 0 else None)\n",
    "        launch_dict[\"Time\"].append(cell_texts[1] if len(cell_texts) > 1 else None)\n",
    "        launch_dict[\"Booster_Version\"].append(cell_texts[2] if len(cell_texts) > 2 else None)\n",
    "        launch_dict[\"Launch_Site\"].append(cell_texts[3] if len(cell_texts) > 3 else None)\n",
    "        launch_dict[\"Payload\"].append(cell_texts[4] if len(cell_texts) > 4 else None)\n",
    "        launch_dict[\"Payload_Mass\"].append(cell_texts[5] if len(cell_texts) > 5 else None)\n",
    "        launch_dict[\"Orbit\"].append(cell_texts[6] if len(cell_texts) > 6 else None)\n",
    "        launch_dict[\"Customer\"].append(cell_texts[7] if len(cell_texts) > 7 else None)\n",
    "        launch_dict[\"Mission_Outcome\"].append(cell_texts[8] if len(cell_texts) > 8 else None)\n",
    "        launch_dict[\"Landing_Outcome\"].append(cell_texts[9] if len(cell_texts) > 9 else None)\n",
    "\n",
    "# Chuyển thành DataFrame\n",
    "df_launches = pd.DataFrame(launch_dict)\n",
    "\n",
    "# Xem thử kết quả\n",
    "print(df_launches.head())\n"
   ]
  },
  {
   "cell_type": "markdown",
   "metadata": {},
   "source": [
    "After you have fill in the parsed launch record values into `launch_dict`, you can create a dataframe from it.\n"
   ]
  },
  {
   "cell_type": "code",
   "execution_count": 24,
   "metadata": {
    "tags": []
   },
   "outputs": [
    {
     "name": "stderr",
     "output_type": "stream",
     "text": [
      "/home/jupyterlab/conda/envs/python/lib/python3.7/site-packages/ipykernel_launcher.py:1: DeprecationWarning: The default dtype for empty Series will be 'object' instead of 'float64' in a future version. Specify a dtype explicitly to silence this warning.\n",
      "  \"\"\"Entry point for launching an IPython kernel.\n"
     ]
    }
   ],
   "source": []
  },
  {
   "cell_type": "markdown",
   "metadata": {},
   "source": [
    "We can now export it to a <b>CSV</b> for the next section, but to make the answers consistent and in case you have difficulties finishing this lab. \n",
    "\n",
    "Following labs will be using a provided dataset to make each lab independent. \n"
   ]
  },
  {
   "cell_type": "markdown",
   "metadata": {},
   "source": [
    "<code>df.to_csv('spacex_web_scraped.csv', index=False)</code>\n"
   ]
  },
  {
   "cell_type": "markdown",
   "metadata": {},
   "source": [
    "## Authors\n"
   ]
  },
  {
   "cell_type": "markdown",
   "metadata": {},
   "source": [
    "<a href=\"https://www.linkedin.com/in/yan-luo-96288783/\">Yan Luo</a>\n"
   ]
  },
  {
   "cell_type": "markdown",
   "metadata": {},
   "source": [
    "<a href=\"https://www.linkedin.com/in/nayefaboutayoun/\">Nayef Abou Tayoun</a>\n"
   ]
  },
  {
   "cell_type": "markdown",
   "metadata": {},
   "source": [
    "<!--\n",
    "## Change Log\n",
    "-->\n"
   ]
  },
  {
   "cell_type": "markdown",
   "metadata": {},
   "source": [
    "<!--\n",
    "| Date (YYYY-MM-DD) | Version | Changed By | Change Description      |\n",
    "| ----------------- | ------- | ---------- | ----------------------- |\n",
    "| 2021-06-09        | 1.0     | Yan Luo    | Tasks updates           |\n",
    "| 2020-11-10        | 1.0     | Nayef      | Created the initial version |\n",
    "-->\n"
   ]
  },
  {
   "cell_type": "markdown",
   "metadata": {},
   "source": [
    "Copyright © 2021 IBM Corporation. All rights reserved.\n"
   ]
  }
 ],
 "metadata": {
  "kernelspec": {
   "display_name": "Python",
   "language": "python",
   "name": "conda-env-python-py"
  },
  "language_info": {
   "codemirror_mode": {
    "name": "ipython",
    "version": 3
   },
   "file_extension": ".py",
   "mimetype": "text/x-python",
   "name": "python",
   "nbconvert_exporter": "python",
   "pygments_lexer": "ipython3",
   "version": "3.7.12"
  },
  "prev_pub_hash": "64f1b0aac408997185c47caba18730e0028b75e7934a0e5bf0ae73c5cb7ba677"
 },
 "nbformat": 4,
 "nbformat_minor": 4
}
